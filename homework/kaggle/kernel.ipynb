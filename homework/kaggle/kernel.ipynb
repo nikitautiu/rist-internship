{
 "cells": [
  {
   "cell_type": "markdown",
   "metadata": {},
   "source": [
    "# Now That's What I Call Kaggle\n",
    "In this kernel we will be studying the last 61 iterations of Now That's what I call Music and their tracks to see what interesting details we can extract for them and maybe even infer a few things about the maintream music taste in the USA since 1998."
   ]
  },
  {
   "cell_type": "code",
   "execution_count": 1,
   "metadata": {
    "collapsed": true
   },
   "outputs": [],
   "source": [
    "%matplotlib inline\n",
    "# pandas\n",
    "import pandas as pd\n",
    "\n",
    "# numpy, matplotlib, seaborn\n",
    "import numpy as np\n",
    "import matplotlib.pyplot as plt\n",
    "import seaborn as sns\n",
    "\n",
    "# this styling is purely my preference\n",
    "# less chartjunk\n",
    "sns.set_context('notebook', font_scale=1.5, rc={'line.linewidth': 2.5})\n",
    "sns.set(style='ticks', palette='Set2')"
   ]
  },
  {
   "cell_type": "markdown",
   "metadata": {},
   "source": [
    "## Data loading"
   ]
  },
  {
   "cell_type": "code",
   "execution_count": 2,
   "metadata": {},
   "outputs": [
    {
     "data": {
      "text/html": [
       "<div>\n",
       "<style>\n",
       "    .dataframe thead tr:only-child th {\n",
       "        text-align: right;\n",
       "    }\n",
       "\n",
       "    .dataframe thead th {\n",
       "        text-align: left;\n",
       "    }\n",
       "\n",
       "    .dataframe tbody tr th {\n",
       "        vertical-align: top;\n",
       "    }\n",
       "</style>\n",
       "<table border=\"1\" class=\"dataframe\">\n",
       "  <thead>\n",
       "    <tr style=\"text-align: right;\">\n",
       "      <th></th>\n",
       "      <th>speechiness</th>\n",
       "      <th>key</th>\n",
       "      <th>time_signature</th>\n",
       "      <th>liveness</th>\n",
       "      <th>loudness</th>\n",
       "      <th>duration_ms</th>\n",
       "      <th>danceability</th>\n",
       "      <th>duration</th>\n",
       "      <th>valence</th>\n",
       "      <th>acousticness</th>\n",
       "      <th>spotify_id</th>\n",
       "      <th>volume_number</th>\n",
       "      <th>energy</th>\n",
       "      <th>tempo</th>\n",
       "      <th>instrumentalness</th>\n",
       "      <th>mode</th>\n",
       "      <th>number</th>\n",
       "      <th>artist</th>\n",
       "      <th>title</th>\n",
       "    </tr>\n",
       "  </thead>\n",
       "  <tbody>\n",
       "    <tr>\n",
       "      <th>0</th>\n",
       "      <td>0.1400</td>\n",
       "      <td>4.0</td>\n",
       "      <td>4.0</td>\n",
       "      <td>0.0521</td>\n",
       "      <td>-6.055</td>\n",
       "      <td>267267.0</td>\n",
       "      <td>0.891</td>\n",
       "      <td>266</td>\n",
       "      <td>0.820</td>\n",
       "      <td>0.20200</td>\n",
       "      <td>spotify:track:1AWQoqb9bSvzTjaLralEkT</td>\n",
       "      <td>13</td>\n",
       "      <td>0.714</td>\n",
       "      <td>100.972</td>\n",
       "      <td>0.000234</td>\n",
       "      <td>0.0</td>\n",
       "      <td>1</td>\n",
       "      <td>Justin Timberlake</td>\n",
       "      <td>Rock Your Body</td>\n",
       "    </tr>\n",
       "    <tr>\n",
       "      <th>1</th>\n",
       "      <td>0.0555</td>\n",
       "      <td>10.0</td>\n",
       "      <td>4.0</td>\n",
       "      <td>0.0853</td>\n",
       "      <td>-5.416</td>\n",
       "      <td>222040.0</td>\n",
       "      <td>0.741</td>\n",
       "      <td>221</td>\n",
       "      <td>0.362</td>\n",
       "      <td>0.03980</td>\n",
       "      <td>spotify:track:7AUfOfYTfiHhgg2Pw1aTpw</td>\n",
       "      <td>13</td>\n",
       "      <td>0.575</td>\n",
       "      <td>93.992</td>\n",
       "      <td>0.127000</td>\n",
       "      <td>0.0</td>\n",
       "      <td>2</td>\n",
       "      <td>Jennifer Lopez</td>\n",
       "      <td>I'm Glad</td>\n",
       "    </tr>\n",
       "    <tr>\n",
       "      <th>2</th>\n",
       "      <td>0.2160</td>\n",
       "      <td>3.0</td>\n",
       "      <td>4.0</td>\n",
       "      <td>0.0504</td>\n",
       "      <td>-6.562</td>\n",
       "      <td>205000.0</td>\n",
       "      <td>0.676</td>\n",
       "      <td>203</td>\n",
       "      <td>0.533</td>\n",
       "      <td>0.02410</td>\n",
       "      <td>spotify:track:5UrbZaqIsclBE9IAcnG43M</td>\n",
       "      <td>13</td>\n",
       "      <td>0.561</td>\n",
       "      <td>89.947</td>\n",
       "      <td>0.000000</td>\n",
       "      <td>0.0</td>\n",
       "      <td>3</td>\n",
       "      <td>B2K</td>\n",
       "      <td>Girlfriend</td>\n",
       "    </tr>\n",
       "    <tr>\n",
       "      <th>3</th>\n",
       "      <td>0.3010</td>\n",
       "      <td>1.0</td>\n",
       "      <td>4.0</td>\n",
       "      <td>0.0518</td>\n",
       "      <td>-4.857</td>\n",
       "      <td>280053.0</td>\n",
       "      <td>0.691</td>\n",
       "      <td>229</td>\n",
       "      <td>0.877</td>\n",
       "      <td>0.01860</td>\n",
       "      <td>spotify:track:6JW8DqCEOWaj8z5AIx4ugf</td>\n",
       "      <td>13</td>\n",
       "      <td>0.858</td>\n",
       "      <td>92.773</td>\n",
       "      <td>0.000000</td>\n",
       "      <td>1.0</td>\n",
       "      <td>4</td>\n",
       "      <td>Jay-Z</td>\n",
       "      <td>Excuse Me Miss</td>\n",
       "    </tr>\n",
       "    <tr>\n",
       "      <th>4</th>\n",
       "      <td>0.2440</td>\n",
       "      <td>5.0</td>\n",
       "      <td>4.0</td>\n",
       "      <td>0.0908</td>\n",
       "      <td>-7.114</td>\n",
       "      <td>268333.0</td>\n",
       "      <td>0.573</td>\n",
       "      <td>218</td>\n",
       "      <td>0.578</td>\n",
       "      <td>0.00029</td>\n",
       "      <td>spotify:track:5DLkPmyenHS2uJclC8nPCA</td>\n",
       "      <td>13</td>\n",
       "      <td>0.606</td>\n",
       "      <td>176.449</td>\n",
       "      <td>0.000000</td>\n",
       "      <td>0.0</td>\n",
       "      <td>5</td>\n",
       "      <td>Ginuwine featuring Baby</td>\n",
       "      <td>Hell Yeah</td>\n",
       "    </tr>\n",
       "  </tbody>\n",
       "</table>\n",
       "</div>"
      ],
      "text/plain": [
       "   speechiness   key  time_signature  liveness  loudness  duration_ms  \\\n",
       "0       0.1400   4.0             4.0    0.0521    -6.055     267267.0   \n",
       "1       0.0555  10.0             4.0    0.0853    -5.416     222040.0   \n",
       "2       0.2160   3.0             4.0    0.0504    -6.562     205000.0   \n",
       "3       0.3010   1.0             4.0    0.0518    -4.857     280053.0   \n",
       "4       0.2440   5.0             4.0    0.0908    -7.114     268333.0   \n",
       "\n",
       "   danceability  duration  valence  acousticness  \\\n",
       "0         0.891       266    0.820       0.20200   \n",
       "1         0.741       221    0.362       0.03980   \n",
       "2         0.676       203    0.533       0.02410   \n",
       "3         0.691       229    0.877       0.01860   \n",
       "4         0.573       218    0.578       0.00029   \n",
       "\n",
       "                             spotify_id  volume_number  energy    tempo  \\\n",
       "0  spotify:track:1AWQoqb9bSvzTjaLralEkT             13   0.714  100.972   \n",
       "1  spotify:track:7AUfOfYTfiHhgg2Pw1aTpw             13   0.575   93.992   \n",
       "2  spotify:track:5UrbZaqIsclBE9IAcnG43M             13   0.561   89.947   \n",
       "3  spotify:track:6JW8DqCEOWaj8z5AIx4ugf             13   0.858   92.773   \n",
       "4  spotify:track:5DLkPmyenHS2uJclC8nPCA             13   0.606  176.449   \n",
       "\n",
       "   instrumentalness  mode  number                   artist           title  \n",
       "0          0.000234   0.0       1        Justin Timberlake  Rock Your Body  \n",
       "1          0.127000   0.0       2           Jennifer Lopez        I'm Glad  \n",
       "2          0.000000   0.0       3                      B2K      Girlfriend  \n",
       "3          0.000000   1.0       4                    Jay-Z  Excuse Me Miss  \n",
       "4          0.000000   0.0       5  Ginuwine featuring Baby       Hell Yeah  "
      ]
     },
     "execution_count": 2,
     "metadata": {},
     "output_type": "execute_result"
    }
   ],
   "source": [
    "# loading the data\n",
    "df = pd.read_csv('Now_with_Spotify_Final.csv')\n",
    "df.head()"
   ]
  },
  {
   "cell_type": "markdown",
   "metadata": {},
   "source": [
    "## Exploration\n",
    "\n",
    "### Release Year\n",
    "If we look at the [wikipedia page](https://en.wikipedia.org/wiki/Now_That%27s_What_I_Call_Music!_discography), we can see all the albums and their relese dates. This means we can actually infer the release year."
   ]
  },
  {
   "cell_type": "code",
   "execution_count": 3,
   "metadata": {},
   "outputs": [
    {
     "data": {
      "image/png": "[encoded data removed]",
      "text/plain": [
       "<matplotlib.figure.Figure at 0x7fb75ef75438>"
      ]
     },
     "metadata": {},
     "output_type": "display_data"
    }
   ],
   "source": [
    "release_years = [1998, 1999, 1999, 2000, 2000, 2001, 2001, 2001, 2002, 2002, 2002, 2003, 2003, 2003,\n",
    "                 2004, 2004, 2004, 2005, 2005, 2005, 2006, 2006, 2006, 2007, 2007, 2007, 2008, 2008, \n",
    "                 2008, 2009, 2009, 2009, 2010, 2010, 2010, 2010, 2011, 2011, 2011, 2011, 2012, 2012, \n",
    "                 2012, 2012, 2013, 2013, 2013, 2013, 2014, 2014, 2014, 2014, 2015, 2015, 2015, 2015, \n",
    "                 2016, 2016, 2016, 2016, 2017]\n",
    "df['year'] = df['volume_number'].apply(lambda x: release_years[x - 1])  # 0 indexed\n",
    "\n",
    "fig = plt.figure(figsize=(16,4))\n",
    "ax = fig.add_subplot(121)\n",
    "sns.countplot(data=df, x='year', color=sns.color_palette('Set2')[0], ax=ax)\n",
    "plt.setp(ax.get_xticklabels(), rotation=45)\n",
    "ax.set_title('number of tracks')\n",
    "sns.despine(ax=ax)\n",
    "\n",
    "\n",
    "ax = fig.add_subplot(122)\n",
    "sns.boxplot(data=df.groupby('volume_number').agg('count'), x='year', color=sns.color_palette('Set2')[0], ax=ax)\n",
    "ax.set_title('tracks per album')\n",
    "ax.set_xlabel('number')\n",
    "sns.despine(ax=ax)"
   ]
  },
  {
   "cell_type": "markdown",
   "metadata": {},
   "source": [
    "Looking at graph above we see that although, different numbers of albums were published each year, allmost all of them have \n",
    "\n",
    "### Songs per artist\n",
    "Now that we have the data, we can do some exploration on it. Why don't we see what songs have the most main artists and featured verses. "
   ]
  },
  {
   "cell_type": "markdown",
   "metadata": {},
   "source": [
    "### Artsts featuring stats\n",
    "Looking at the data we can also see that many of these songs have more than one artist. Looking over then we can safely assume that the format in which the artist is written is the following:\n",
    "\n",
    "    main_artist_1[, main_artist_2[, ...[ and main_artist_n]]] [featuring feat_artist_1[, feat_artist_2[, ...[ and feat_artist_n]]] \n",
    "    \n",
    "This means we can expand each record into several row, one for each artists, that includes the wether they were the main artists or the featured artists for that song. From this we could gather some interesting data about performances.\n",
    "\n",
    "We will start by splitting the data ccording to the seprators we described above into featured and main artists, then we will be splitting those too into individual artists."
   ]
  },
  {
   "cell_type": "code",
   "execution_count": 4,
   "metadata": {
    "collapsed": true
   },
   "outputs": [],
   "source": [
    "# split the artists into mains and features\n",
    "artists = df['artist'].str.split(r'\\s*featuring\\s*').apply(pd.Series)\n",
    "\n",
    "# get the artists\n",
    "main_artist = artists[0].str.split(r'(\\s+and\\s+)|,').apply(pd.Series).stack()\n",
    "main_df = pd.DataFrame(data={'artist_name': main_artist, 'featuring': False})\n",
    "main_df.index = main_df.index.droplevel(-1)\n",
    "\n",
    "# get the featuring artists\n",
    "feat_artist = artists[1].dropna().str.split(r'\\s+and\\s+|,').apply(pd.Series).stack()\n",
    "feat_df = pd.DataFrame(data={'artist_name': feat_artist, 'featuring': True})\n",
    "feat_df.index = feat_df.index.droplevel(-1)\n",
    "\n",
    "# join the results\n",
    "artist_df = pd.concat([df.join(main_df, how='inner'), df.join(feat_df, how='inner')], axis='rows')\n",
    "\n",
    "# strip the spaces and drop the redundant 'and's\n",
    "artist_df['artist_name'] = artist_df['artist_name'].str.strip()\n",
    "artist_df = artist_df[artist_df['artist_name'] != 'and']  #  split fails sometimes"
   ]
  },
  {
   "cell_type": "code",
   "execution_count": 5,
   "metadata": {
    "collapsed": true
   },
   "outputs": [],
   "source": [
    "# group by song and \n",
    "feat_stats = artist_df.groupby([artist_df.index, 'featuring'], ).agg({'title': ['count', 'first'], 'artist': 'first', 'year': 'first'})\n",
    "feat_stats = feat_stats.unstack().T.reset_index(drop=True).T\n",
    "feat_stats = feat_stats.drop([3, 5, 7], axis='columns').fillna(0)  # some songs just don't have any features\n",
    "feat_stats.columns = ['main', 'feat', 'title', 'artist', 'year']\n",
    "feat_stats['total'] = feat_stats['main'] + feat_stats['feat']\n",
    "df = df.join(feat_stats[['main', 'feat', 'total']])  #  add them to the input dataframe"
   ]
  },
  {
   "cell_type": "code",
   "execution_count": 6,
   "metadata": {},
   "outputs": [
    {
     "data": {
      "text/html": [
       "<div>\n",
       "<style>\n",
       "    .dataframe thead tr:only-child th {\n",
       "        text-align: right;\n",
       "    }\n",
       "\n",
       "    .dataframe thead th {\n",
       "        text-align: left;\n",
       "    }\n",
       "\n",
       "    .dataframe tbody tr th {\n",
       "        vertical-align: top;\n",
       "    }\n",
       "</style>\n",
       "<table border=\"1\" class=\"dataframe\">\n",
       "  <thead>\n",
       "    <tr style=\"text-align: right;\">\n",
       "      <th></th>\n",
       "      <th>main</th>\n",
       "      <th>feat</th>\n",
       "      <th>total</th>\n",
       "    </tr>\n",
       "  </thead>\n",
       "  <tbody>\n",
       "    <tr>\n",
       "      <th>0.0</th>\n",
       "      <td>0.0</td>\n",
       "      <td>977.0</td>\n",
       "      <td>0.0</td>\n",
       "    </tr>\n",
       "    <tr>\n",
       "      <th>1.0</th>\n",
       "      <td>1205.0</td>\n",
       "      <td>222.0</td>\n",
       "      <td>956.0</td>\n",
       "    </tr>\n",
       "    <tr>\n",
       "      <th>2.0</th>\n",
       "      <td>22.0</td>\n",
       "      <td>25.0</td>\n",
       "      <td>238.0</td>\n",
       "    </tr>\n",
       "    <tr>\n",
       "      <th>3.0</th>\n",
       "      <td>2.0</td>\n",
       "      <td>5.0</td>\n",
       "      <td>30.0</td>\n",
       "    </tr>\n",
       "    <tr>\n",
       "      <th>4.0</th>\n",
       "      <td>0.0</td>\n",
       "      <td>0.0</td>\n",
       "      <td>5.0</td>\n",
       "    </tr>\n",
       "  </tbody>\n",
       "</table>\n",
       "</div>"
      ],
      "text/plain": [
       "       main   feat  total\n",
       "0.0     0.0  977.0    0.0\n",
       "1.0  1205.0  222.0  956.0\n",
       "2.0    22.0   25.0  238.0\n",
       "3.0     2.0    5.0   30.0\n",
       "4.0     0.0    0.0    5.0"
      ]
     },
     "execution_count": 6,
     "metadata": {},
     "output_type": "execute_result"
    }
   ],
   "source": [
    "feat_stats[['main', 'feat', 'total']].apply(pd.value_counts, axis='rows').fillna(0)"
   ]
  },
  {
   "cell_type": "code",
   "execution_count": 7,
   "metadata": {},
   "outputs": [
    {
     "data": {
      "text/html": [
       "<div>\n",
       "<style>\n",
       "    .dataframe thead tr:only-child th {\n",
       "        text-align: right;\n",
       "    }\n",
       "\n",
       "    .dataframe thead th {\n",
       "        text-align: left;\n",
       "    }\n",
       "\n",
       "    .dataframe tbody tr th {\n",
       "        vertical-align: top;\n",
       "    }\n",
       "</style>\n",
       "<table border=\"1\" class=\"dataframe\">\n",
       "  <thead>\n",
       "    <tr style=\"text-align: right;\">\n",
       "      <th></th>\n",
       "      <th>main</th>\n",
       "      <th>feat</th>\n",
       "      <th>title</th>\n",
       "      <th>artist</th>\n",
       "      <th>year</th>\n",
       "      <th>total</th>\n",
       "    </tr>\n",
       "  </thead>\n",
       "  <tbody>\n",
       "    <tr>\n",
       "      <th>800</th>\n",
       "      <td>1.0</td>\n",
       "      <td>3.0</td>\n",
       "      <td>Give Me Everything</td>\n",
       "      <td>Pitbull featuring Ne-Yo, Afrojack and Nayer</td>\n",
       "      <td>2011.0</td>\n",
       "      <td>4.0</td>\n",
       "    </tr>\n",
       "    <tr>\n",
       "      <th>243</th>\n",
       "      <td>1.0</td>\n",
       "      <td>3.0</td>\n",
       "      <td>Bailando</td>\n",
       "      <td>Enrique Iglesias featuring Sean Paul, Descemer...</td>\n",
       "      <td>2014.0</td>\n",
       "      <td>4.0</td>\n",
       "    </tr>\n",
       "    <tr>\n",
       "      <th>722</th>\n",
       "      <td>1.0</td>\n",
       "      <td>3.0</td>\n",
       "      <td>Hey Mama</td>\n",
       "      <td>David Guetta featuring Nicki Minaj, Bebe Rexha...</td>\n",
       "      <td>2015.0</td>\n",
       "      <td>4.0</td>\n",
       "    </tr>\n",
       "    <tr>\n",
       "      <th>704</th>\n",
       "      <td>1.0</td>\n",
       "      <td>3.0</td>\n",
       "      <td>I Think They Like Me (Remix)</td>\n",
       "      <td>Dem Franchize Boyz featuring Jermaine Dupri, D...</td>\n",
       "      <td>2005.0</td>\n",
       "      <td>4.0</td>\n",
       "    </tr>\n",
       "    <tr>\n",
       "      <th>1162</th>\n",
       "      <td>1.0</td>\n",
       "      <td>3.0</td>\n",
       "      <td>Strangers</td>\n",
       "      <td>Seven Lions featuring Myon, Shane 54 and Tove Lo</td>\n",
       "      <td>2014.0</td>\n",
       "      <td>4.0</td>\n",
       "    </tr>\n",
       "    <tr>\n",
       "      <th>1204</th>\n",
       "      <td>1.0</td>\n",
       "      <td>2.0</td>\n",
       "      <td>Give Me Your Love</td>\n",
       "      <td>Sigala featuring John Newman and Nile Rodgers</td>\n",
       "      <td>2016.0</td>\n",
       "      <td>3.0</td>\n",
       "    </tr>\n",
       "    <tr>\n",
       "      <th>799</th>\n",
       "      <td>1.0</td>\n",
       "      <td>2.0</td>\n",
       "      <td>Party Rock Anthem</td>\n",
       "      <td>LMFAO featuring Lauren Bennett and GoonRock</td>\n",
       "      <td>2011.0</td>\n",
       "      <td>3.0</td>\n",
       "    </tr>\n",
       "  </tbody>\n",
       "</table>\n",
       "</div>"
      ],
      "text/plain": [
       "      main  feat                         title  \\\n",
       "800    1.0   3.0            Give Me Everything   \n",
       "243    1.0   3.0                      Bailando   \n",
       "722    1.0   3.0                      Hey Mama   \n",
       "704    1.0   3.0  I Think They Like Me (Remix)   \n",
       "1162   1.0   3.0                     Strangers   \n",
       "1204   1.0   2.0             Give Me Your Love   \n",
       "799    1.0   2.0             Party Rock Anthem   \n",
       "\n",
       "                                                 artist    year  total  \n",
       "800         Pitbull featuring Ne-Yo, Afrojack and Nayer  2011.0    4.0  \n",
       "243   Enrique Iglesias featuring Sean Paul, Descemer...  2014.0    4.0  \n",
       "722   David Guetta featuring Nicki Minaj, Bebe Rexha...  2015.0    4.0  \n",
       "704   Dem Franchize Boyz featuring Jermaine Dupri, D...  2005.0    4.0  \n",
       "1162   Seven Lions featuring Myon, Shane 54 and Tove Lo  2014.0    4.0  \n",
       "1204      Sigala featuring John Newman and Nile Rodgers  2016.0    3.0  \n",
       "799         LMFAO featuring Lauren Bennett and GoonRock  2011.0    3.0  "
      ]
     },
     "execution_count": 7,
     "metadata": {},
     "output_type": "execute_result"
    }
   ],
   "source": [
    "feat_stats.sort_values('total', ascending=False).head(7)"
   ]
  },
  {
   "cell_type": "markdown",
   "metadata": {},
   "source": [
    "Wow. Lookin over the data we can see that most of the songs have 1 or 2 artists credited, but a few songs(7 to be exact) have a whopping 4 artists on the track. \n",
    "\n",
    "### Colabs vs year\n",
    "Next we will be trying to see if there is some correlation between the number of artists and year."
   ]
  },
  {
   "cell_type": "code",
   "execution_count": 8,
   "metadata": {
    "scrolled": false
   },
   "outputs": [
    {
     "data": {
      "image/png": "[encoded data removed]",
      "text/plain": [
       "<matplotlib.figure.Figure at 0x7fb75cd27208>"
      ]
     },
     "metadata": {},
     "output_type": "display_data"
    }
   ],
   "source": [
    "plt.figure(figsize=(8,5))\n",
    "g = sns.pointplot(data=df[['year', 'total']], y='total', x='year', join=False)\n",
    "plt.xticks(rotation=45)\n",
    "plt.title('Artists per track')\n",
    "sns.despine()"
   ]
  },
  {
   "cell_type": "markdown",
   "metadata": {},
   "source": [
    "As we can see, there is a clear increase in the average number average number of artists on a track over time. This year is not only the one with the greatest average, but also the one with the most variance. This is probably due to the fact that most artists prefer to release their own albums, as we can see from the frequency table. However, one might notice that out the first 7 song with the most artists, 4 have been release after 2010.\n",
    "\n",
    "### Featureability\n",
    "Speaking of which. Now that we have al the artists, their published songs and those on which they are featured, we can see the artists that have the most songs and those who are the most featured."
   ]
  },
  {
   "cell_type": "code",
   "execution_count": 9,
   "metadata": {
    "collapsed": true
   },
   "outputs": [],
   "source": [
    "# number of personal songs and collaborations\n",
    "artist_stats = artist_df.groupby('artist_name').apply(lambda grp: pd.Series({\n",
    "    'own_songs': (~grp['featuring']).sum(),\n",
    "    'features': grp['featuring'].sum()\n",
    "}))\n",
    "artist_stats['total_songs'] = artist_stats['own_songs'] + artist_stats['features']\n",
    "artist_stats['featurability'] = artist_stats['features'] / artist_stats['total_songs']\n",
    "\n",
    "# add musical metric stats\n",
    "metric_cols = ['speechiness', 'key', 'time_signature', 'liveness', 'loudness',\n",
    "    'duration_ms', 'danceability', 'duration', 'valence', 'acousticness',\n",
    "    'spotify_id', 'volume_number', 'energy', 'tempo', 'instrumentalness',\n",
    "    'mode']\n",
    "\n",
    "# we just use the mean for these ones\n",
    "artist_music_stats = artist_df.groupby('artist_name')[metric_cols].mean()\n",
    "artist_stats = artist_stats.join(artist_music_stats, how='left')"
   ]
  },
  {
   "cell_type": "markdown",
   "metadata": {},
   "source": [
    "In this next plot we will be exploring the distributions of the number of songs each artists produces. More specifically, we will be loooking into their own songs, their features and the total."
   ]
  },
  {
   "cell_type": "code",
   "execution_count": 10,
   "metadata": {},
   "outputs": [
    {
     "data": {
      "image/png": "[encoded data removed]",
      "text/plain": [
       "<matplotlib.figure.Figure at 0x7fb75caaf160>"
      ]
     },
     "metadata": {},
     "output_type": "display_data"
    }
   ],
   "source": [
    "# data needs to be wrangled a bit to use it with seaborns grids\n",
    "plot_df = (artist_stats[['own_songs', 'features', 'total_songs']]\n",
    "    .stack()\n",
    "    .reset_index()\n",
    "    .rename(columns={'level_1': 'variable', 0: 'value'}))\n",
    "\n",
    "# plot it sharex is disabled so the xlabels aren't locked ogether\n",
    "g = sns.FacetGrid(data=plot_df, col='variable', size=5, sharex=False)\n",
    "g.map(sns.countplot, 'value');"
   ]
  },
  {
   "cell_type": "markdown",
   "metadata": {},
   "source": [
    "As we can see, obviously, all artists have performed in at least one song, however apparently as many artists as there are with two own songs have gotten to the lists only through colabs. Also, as we can see, although few, there are artists with as many as 19 songs whereas none of them appear on other peoples' songs more than 6 times."
   ]
  },
  {
   "cell_type": "code",
   "execution_count": 11,
   "metadata": {},
   "outputs": [
    {
     "data": {
      "image/png": "[encoded data removed]",
      "text/plain": [
       "<matplotlib.figure.Figure at 0x7fb75ca959e8>"
      ]
     },
     "metadata": {},
     "output_type": "display_data"
    }
   ],
   "source": [
    "plt.figure(figsize=(10, 5))\n",
    "sns.distplot(artist_stats['featurability'], hist=True, rug=True, kde=False)\n",
    "plt.xlim(0, 1)\n",
    "sns.despine()"
   ]
  },
  {
   "cell_type": "markdown",
   "metadata": {},
   "source": [
    "When it comes to the success of their personal songs vs the songs they were featured on, it appears that most artists succede with their own creations, with a few in the middle, having eaqually many colabs and personal compositions. However, a few artists seem to have found themselves a niche where they only appeare on other songs. \n",
    "\n",
    "Now to look at the top. We will begin with the most sucessful artists, those who have got on the album the greates number of times."
   ]
  },
  {
   "cell_type": "code",
   "execution_count": 12,
   "metadata": {},
   "outputs": [
    {
     "data": {
      "text/plain": [
       "artist_name\n",
       "Britney Spears         19\n",
       "Katy Perry             17\n",
       "Chris Brown            17\n",
       "Justin Timberlake      17\n",
       "Pitbull                17\n",
       "Taylor Swift           16\n",
       "Rihanna                16\n",
       "Bruno Mars             14\n",
       "Nickelback             12\n",
       "Ne-Yo                  12\n",
       "The Black Eyed Peas    12\n",
       "Pink                   12\n",
       "Kelly Clarkson         12\n",
       "Lady Gaga              11\n",
       "Backstreet Boys        11\n",
       "Maroon 5               11\n",
       "T-Pain                 10\n",
       "Keith Urban            10\n",
       "Ariana Grande          10\n",
       "Usher                  10\n",
       "Name: total_songs, dtype: int64"
      ]
     },
     "execution_count": 12,
     "metadata": {},
     "output_type": "execute_result"
    }
   ],
   "source": [
    "artist_stats['total_songs'].sort_values(ascending=False).head(20)"
   ]
  },
  {
   "cell_type": "markdown",
   "metadata": {},
   "source": [
    "Here, in the top 20, we can see a large gap emerging. Britney Spears is in the top with 19 songs, almost twice as many as T-Pain and the others who are on the 17th position."
   ]
  },
  {
   "cell_type": "code",
   "execution_count": 13,
   "metadata": {},
   "outputs": [
    {
     "data": {
      "text/plain": [
       "artist_name\n",
       "Britney Spears         19\n",
       "Katy Perry             17\n",
       "Taylor Swift           16\n",
       "Rihanna                14\n",
       "Pitbull                14\n",
       "Justin Timberlake      13\n",
       "Chris Brown            13\n",
       "The Black Eyed Peas    12\n",
       "Pink                   12\n",
       "Kelly Clarkson         12\n",
       "Nickelback             12\n",
       "Maroon 5               11\n",
       "Lady Gaga              11\n",
       "Backstreet Boys        11\n",
       "Bruno Mars             10\n",
       "Ariana Grande          10\n",
       "Keith Urban            10\n",
       "Jennifer Lopez          9\n",
       "Coldplay                9\n",
       "OneRepublic             8\n",
       "Name: own_songs, dtype: int64"
      ]
     },
     "execution_count": 13,
     "metadata": {},
     "output_type": "execute_result"
    }
   ],
   "source": [
    "artist_stats['own_songs'].sort_values(ascending=False).head(20)"
   ]
  },
  {
   "cell_type": "markdown",
   "metadata": {},
   "source": [
    "As for songs of their own, the leaderboard shifts a bit, but the numbers are fairly similar."
   ]
  },
  {
   "cell_type": "code",
   "execution_count": 14,
   "metadata": {},
   "outputs": [
    {
     "data": {
      "text/plain": [
       "artist_name\n",
       "will.i.am                   1.0\n",
       "City Spud                   1.0\n",
       "Charlay                     1.0\n",
       "Charlie Wilson              1.0\n",
       "Pusha T                     1.0\n",
       "Cherine Anderson            1.0\n",
       "Popcaan                     1.0\n",
       "Pharrell                    1.0\n",
       "Perla Cruz & Russell Lee    1.0\n",
       "Peanut                      1.0\n",
       "Name: featurability, dtype: float64"
      ]
     },
     "execution_count": 14,
     "metadata": {},
     "output_type": "execute_result"
    }
   ],
   "source": [
    "artist_stats['featurability'].sort_values(ascending=False).head(10)"
   ]
  },
  {
   "cell_type": "code",
   "execution_count": 15,
   "metadata": {},
   "outputs": [
    {
     "data": {
      "text/plain": [
       "artist_name\n",
       "T-Pain               6\n",
       "Nicki Minaj          6\n",
       "Akon                 5\n",
       "Lil Wayne            5\n",
       "Sean Paul            4\n",
       "T.I.                 4\n",
       "Justin Timberlake    4\n",
       "Ne-Yo                4\n",
       "Ludacris             4\n",
       "Chris Brown          4\n",
       "Name: features, dtype: int64"
      ]
     },
     "execution_count": 15,
     "metadata": {},
     "output_type": "execute_result"
    }
   ],
   "source": [
    "artist_stats['features'].sort_values(ascending=False).head(10)"
   ]
  },
  {
   "cell_type": "markdown",
   "metadata": {},
   "source": [
    "There are over 100 artists who got to the charts almost solely as featured guests and here we can see 10 of them and also some of those who have the most features overall."
   ]
  }
 ],
 "metadata": {
  "kernelspec": {
   "display_name": "Python 3",
   "language": "python",
   "name": "python3"
  },
  "language_info": {
   "codemirror_mode": {
    "name": "ipython",
    "version": 3
   },
   "file_extension": ".py",
   "mimetype": "text/x-python",
   "name": "python",
   "nbconvert_exporter": "python",
   "pygments_lexer": "ipython3",
   "version": "3.6.2"
  }
 },
 "nbformat": 4,
 "nbformat_minor": 2
}
