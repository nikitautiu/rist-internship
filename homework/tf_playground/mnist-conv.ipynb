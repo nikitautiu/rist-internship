{
 "cells": [
  {
   "cell_type": "code",
   "execution_count": 1,
   "metadata": {
    "collapsed": true
   },
   "outputs": [],
   "source": [
    "%matplotlib inline\n",
    "# standard library\n",
    "import itertools\n",
    "\n",
    "# pandas\n",
    "import pandas as pd\n",
    "\n",
    "# numpy, matplotlib, seaborn\n",
    "import numpy as np\n",
    "import matplotlib.pyplot as plt\n",
    "import seaborn as sns\n",
    "\n",
    "# tensorflow\n",
    "import tensorflow as tf\n",
    "from tensorflow.examples.tutorials.mnist import input_data\n",
    "\n",
    "# sklearn\n",
    "import sklearn.datasets\n",
    "from sklearn.preprocessing import OneHotEncoder\n",
    "\n",
    "# this styling is purely my preference\n",
    "# less chartjunk\n",
    "sns.set_context('notebook', font_scale=1.5, rc={'line.linewidth': 2.5})\n",
    "sns.set(style='ticks', palette='Set2')"
   ]
  },
  {
   "cell_type": "code",
   "execution_count": 2,
   "metadata": {},
   "outputs": [
    {
     "name": "stdout",
     "output_type": "stream",
     "text": [
      "Extracting ../MNIST_data/train-images-idx3-ubyte.gz\n",
      "Extracting ../MNIST_data/train-labels-idx1-ubyte.gz\n",
      "Extracting ../MNIST_data/t10k-images-idx3-ubyte.gz\n",
      "Extracting ../MNIST_data/t10k-labels-idx1-ubyte.gz\n"
     ]
    }
   ],
   "source": [
    "# input the data\n",
    "mnist = input_data.read_data_sets('../MNIST_data/', one_hot=True)"
   ]
  },
  {
   "cell_type": "code",
   "execution_count": 3,
   "metadata": {
    "collapsed": true
   },
   "outputs": [],
   "source": [
    "# get the sizes of the images and he number of labels\n",
    "img_size = mnist.train.images[0].shape[0]\n",
    "no_of_classes = mnist.train.labels[0].shape[0]"
   ]
  },
  {
   "cell_type": "markdown",
   "metadata": {},
   "source": [
    "### Creating the layers\n",
    "Building blocks for our network. The same can be achieved with `tf.layers`, but this is a proof of concept implementation."
   ]
  },
  {
   "cell_type": "code",
   "execution_count": 4,
   "metadata": {
    "collapsed": true
   },
   "outputs": [],
   "source": [
    "def weight_variable(shape):\n",
    "    \"\"\"weight_variable generates a weight variable of a given shape.\"\"\"\n",
    "    initial = tf.truncated_normal(shape, stddev=0.1)\n",
    "    return tf.Variable(initial)\n",
    "\n",
    "\n",
    "def bias_variable(shape):\n",
    "    \"\"\"bias_variable generates a bias variable of a given shape.\"\"\"\n",
    "    initial = tf.constant(0.1, shape=shape)\n",
    "    return tf.Variable(initial)\n",
    "\n",
    "\n",
    "def nn_fully_connected_layer(input_tens, output_num, layer_name):\n",
    "    \"\"\"Given an input tensor return the output tensor of a fully connected \n",
    "    layer(preactivations). If reshape is set to `True`, reshape the input(for conv nets).\"\"\"\n",
    "    input_num = input_tens.get_shape().as_list()[-1]\n",
    "    with tf.name_scope(layer_name):\n",
    "        input_tensor = input_tens\n",
    "        # using contex managers to differentiate better\n",
    "        # useful for tensorboard\n",
    "        with tf.name_scope('weights'):\n",
    "            weights = weight_variable([input_num, output_num])\n",
    "        with tf.name_scope('biases'):\n",
    "            biases = bias_variable([output_num])\n",
    "        with tf.name_scope('Wx_plus_b'):\n",
    "            preactivate = tf.matmul(input_tensor, weights) + biases\n",
    "    \n",
    "    # return the preactivations\n",
    "    return preactivate\n",
    "\n",
    "\n",
    "def nn_2dconv_layer(input_tens, filter_shape, filter_strides=[1, 1, 1, 1], fill='SAME', layer_name='hidden'):\n",
    "    \"\"\"Given an input tensor, return the output tensor of a convolutional 2d layer \n",
    "    with biases.\"\"\"\n",
    "    \n",
    "    with tf.name_scope(layer_name):\n",
    "        with tf.name_scope('weights'):\n",
    "            weights = weight_variable(filter_shape)\n",
    "        with tf.name_scope('biases'):\n",
    "            # the last dimension of the filter tells how many\n",
    "            # features it output channels, tha's how mnay biases \n",
    "            # we need\n",
    "            biases = bias_variable([filter_shape[-1]])\n",
    "        with tf.name_scope('convolution'):\n",
    "            conv =  tf.nn.conv2d(input_tens, weights, strides=[1, 1, 1, 1], padding=fill)\n",
    "        with tf.name_scope('conv_plus_b'):\n",
    "            conv_biased = tf.add(conv, biases)\n",
    "    \n",
    "    # return the convolution plus biases\n",
    "    return conv_biased\n",
    "\n",
    "\n",
    "def nn_max_pool_layer(x, x_dim, y_dim, fill='SAME', layer_name='hidden'):\n",
    "    \"\"\"Given an input tesnor,create a max downscaling layer\"\"\"\n",
    "    return tf.nn.max_pool(x, ksize=[1, x_dim, y_dim, 1],\n",
    "                          strides=[1, x_dim, y_dim, 1], padding=fill, name=layer_name)\n"
   ]
  },
  {
   "cell_type": "code",
   "execution_count": 5,
   "metadata": {},
   "outputs": [],
   "source": [
    "x_input = tf.placeholder(tf.float32, shape=[None, 50])"
   ]
  },
  {
   "cell_type": "code",
   "execution_count": 6,
   "metadata": {},
   "outputs": [
    {
     "name": "stdout",
     "output_type": "stream",
     "text": [
      "Tensor(\"hidden1_activ:0\", shape=(?, 100), dtype=float32)\n"
     ]
    }
   ],
   "source": [
    "# fully connected\n",
    "preact = nn_fully_connected_layer(x_input, 100, layer_name='hidden1_preactiv')\n",
    "activ = tf.nn.relu(preact, name='hidden1_activ')\n",
    "print(activ)"
   ]
  },
  {
   "cell_type": "code",
   "execution_count": 7,
   "metadata": {},
   "outputs": [
    {
     "data": {
      "text/plain": [
       "<tf.Tensor 'conv_layer_activ:0' shape=(?, 28, 28, 32) dtype=float32>"
      ]
     },
     "execution_count": 7,
     "metadata": {},
     "output_type": "execute_result"
    }
   ],
   "source": [
    "# convolution\n",
    "x_reshaped = tf.reshape(x_input, [-1, 28, 28, 1])\n",
    "conv_preact = nn_2dconv_layer(x_reshaped, [5, 5, 1, 32], layer_name='conv_layer_preactiv')\n",
    "conv_act = tf.nn.relu(conv_preact, name='conv_layer_activ')\n",
    "conv_act"
   ]
  },
  {
   "cell_type": "code",
   "execution_count": 8,
   "metadata": {},
   "outputs": [
    {
     "data": {
      "text/plain": [
       "<tf.Tensor 'downsamp:0' shape=(?, 14, 14, 1) dtype=float32>"
      ]
     },
     "execution_count": 8,
     "metadata": {},
     "output_type": "execute_result"
    }
   ],
   "source": [
    "# downsampling\n",
    "x_reshaped = tf.reshape(x_input, [-1, 28, 28, 1])\n",
    "downsamp = nn_max_pool_layer(x_reshaped, 2, 2, layer_name='downsamp')  # 2x2 downsampling\n",
    "downsamp"
   ]
  },
  {
   "cell_type": "markdown",
   "metadata": {},
   "source": [
    "### Building the model\n",
    "Now that we have the building blocks we can build a convolutional model with 2 convolutions, a fully connected layer and a dropout."
   ]
  },
  {
   "cell_type": "code",
   "execution_count": 9,
   "metadata": {
    "collapsed": true
   },
   "outputs": [],
   "source": [
    "def get_conv_model(x_input, keep_prob):\n",
    "    # reshape to an image tensor(28x28x1)(greyscale)\n",
    "    x_reshaped = tf.reshape(x_input, [-1, 28, 28, 1])\n",
    "    \n",
    "    # first convolution(1 -> 32 feats)\n",
    "    conv1_preact = nn_2dconv_layer(x_reshaped, [5, 5, 1, 32], layer_name='conv1_preactiv')\n",
    "    conv1_act = tf.nn.relu(conv1_preact, name='conv1_activ')\n",
    "    \n",
    "    # first pooling(2x2)\n",
    "    pool1 = nn_max_pool_layer(conv1_act, 2, 2, layer_name='pool1')\n",
    "    \n",
    "    # second convolution(32 -> 64 feats)\n",
    "    conv2_preact = nn_2dconv_layer(pool1, [5, 5, 32, 64], layer_name='conv2_preactiv')\n",
    "    conv2_act = tf.nn.relu(conv2_preact, name='conv2_activ')\n",
    "    \n",
    "    # second pooling(2x2)\n",
    "    pool2 = nn_max_pool_layer(conv2_act, 2, 2, layer_name='pool2')\n",
    "    \n",
    "    # fully connected_layer(maps to 1024 feats in total)\n",
    "    fully_con_input = tf.reshape(pool2, shape=[-1, 7 * 7 * 64])\n",
    "    fully_con_preact = nn_fully_connected_layer(fully_con_input, 1024, \n",
    "                                                layer_name='fully_connected_preactiv')\n",
    "    fully_con_act = tf.nn.relu(fully_con_preact, name='fully_connected_activ')\n",
    "    \n",
    "    # dropout, before prediction layer\n",
    "    drop = tf.nn.dropout(fully_con_act, keep_prob)\n",
    "    \n",
    "    # final layer\n",
    "    readout = nn_fully_connected_layer(drop, 10, layer_name='readout')\n",
    "    \n",
    "    return readout"
   ]
  },
  {
   "cell_type": "code",
   "execution_count": 14,
   "metadata": {
    "scrolled": true
   },
   "outputs": [],
   "source": [
    "# building the model\n",
    "x_input = tf.placeholder(tf.float32, shape=[None, img_size])\n",
    "y_expected = tf.placeholder(tf.float32, shape=[None, no_of_classes])\n",
    "\n",
    "# neural net\n",
    "dropout_keep_prob = tf.placeholder(tf.float32)\n",
    "y_conv = get_conv_model(x_input, dropout_keep_prob)\n",
    "\n",
    "# define the optimizer\n",
    "cross_entropy_loss = tf.reduce_mean(\n",
    "    tf.nn.softmax_cross_entropy_with_logits(labels=y_expected, logits=y_conv))\n",
    "train_step = tf.train.AdamOptimizer(1e-4).minimize(cross_entropy_loss)\n",
    "correct_prediction = tf.equal(tf.argmax(y_conv, 1), tf.argmax(y_expected, 1))\n",
    "accuracy = tf.reduce_mean(tf.cast(correct_prediction, tf.float32))\n",
    "\n",
    "# NOTE: the same can be done with tf.metrics"
   ]
  },
  {
   "cell_type": "code",
   "execution_count": 20,
   "metadata": {},
   "outputs": [
    {
     "name": "stdout",
     "output_type": "stream",
     "text": [
      "step 0, training accuracy 0.04\n",
      "step 100, training accuracy 0.82\n",
      "step 200, training accuracy 0.9\n",
      "step 300, training accuracy 0.92\n",
      "step 400, training accuracy 0.92\n",
      "step 500, training accuracy 0.92\n",
      "step 600, training accuracy 0.9\n",
      "step 700, training accuracy 0.96\n",
      "step 800, training accuracy 0.94\n",
      "step 900, training accuracy 0.96\n",
      "step 1000, training accuracy 0.92\n",
      "step 1100, training accuracy 0.92\n",
      "step 1200, training accuracy 0.94\n",
      "step 1300, training accuracy 0.96\n",
      "step 1400, training accuracy 0.94\n",
      "step 1500, training accuracy 1\n",
      "step 1600, training accuracy 1\n",
      "step 1700, training accuracy 0.94\n",
      "step 1800, training accuracy 0.98\n",
      "step 1900, training accuracy 0.94\n",
      "step 2000, training accuracy 0.94\n",
      "step 2100, training accuracy 0.96\n",
      "step 2200, training accuracy 0.96\n",
      "step 2300, training accuracy 1\n",
      "step 2400, training accuracy 0.98\n",
      "step 2500, training accuracy 0.94\n",
      "step 2600, training accuracy 0.96\n",
      "step 2700, training accuracy 0.98\n",
      "step 2800, training accuracy 0.98\n",
      "step 2900, training accuracy 0.98\n",
      "step 3000, training accuracy 0.96\n",
      "step 3100, training accuracy 0.96\n",
      "step 3200, training accuracy 1\n",
      "step 3300, training accuracy 1\n",
      "step 3400, training accuracy 0.98\n",
      "step 3500, training accuracy 1\n",
      "step 3600, training accuracy 1\n",
      "step 3700, training accuracy 1\n",
      "step 3800, training accuracy 1\n",
      "step 3900, training accuracy 0.98\n",
      "step 4000, training accuracy 1\n",
      "step 4100, training accuracy 0.96\n",
      "step 4200, training accuracy 1\n",
      "step 4300, training accuracy 1\n",
      "step 4400, training accuracy 0.98\n",
      "step 4500, training accuracy 1\n",
      "step 4600, training accuracy 0.96\n",
      "step 4700, training accuracy 1\n",
      "step 4800, training accuracy 1\n",
      "step 4900, training accuracy 1\n",
      "step 5000, training accuracy 0.98\n",
      "step 5100, training accuracy 1\n",
      "step 5200, training accuracy 1\n",
      "step 5300, training accuracy 1\n",
      "step 5400, training accuracy 0.98\n",
      "step 5500, training accuracy 0.96\n",
      "step 5600, training accuracy 1\n",
      "step 5700, training accuracy 0.96\n",
      "step 5800, training accuracy 0.98\n",
      "step 5900, training accuracy 0.98\n",
      "step 6000, training accuracy 0.98\n",
      "step 6100, training accuracy 0.98\n",
      "step 6200, training accuracy 1\n",
      "step 6300, training accuracy 1\n",
      "step 6400, training accuracy 1\n",
      "step 6500, training accuracy 1\n",
      "step 6600, training accuracy 1\n",
      "step 6700, training accuracy 0.98\n",
      "step 6800, training accuracy 1\n",
      "step 6900, training accuracy 0.94\n",
      "step 7000, training accuracy 0.98\n",
      "step 7100, training accuracy 1\n",
      "step 7200, training accuracy 0.96\n",
      "step 7300, training accuracy 1\n",
      "step 7400, training accuracy 1\n",
      "step 7500, training accuracy 0.96\n",
      "step 7600, training accuracy 1\n",
      "step 7700, training accuracy 1\n",
      "step 7800, training accuracy 1\n",
      "step 7900, training accuracy 1\n",
      "step 8000, training accuracy 1\n",
      "step 8100, training accuracy 1\n",
      "step 8200, training accuracy 1\n",
      "step 8300, training accuracy 0.96\n",
      "step 8400, training accuracy 1\n",
      "step 8500, training accuracy 1\n",
      "step 8600, training accuracy 1\n",
      "step 8700, training accuracy 1\n",
      "step 8800, training accuracy 1\n",
      "step 8900, training accuracy 0.98\n",
      "step 9000, training accuracy 0.98\n",
      "step 9100, training accuracy 1\n",
      "step 9200, training accuracy 0.96\n",
      "step 9300, training accuracy 1\n",
      "step 9400, training accuracy 0.98\n",
      "step 9500, training accuracy 1\n",
      "step 9600, training accuracy 0.98\n",
      "step 9700, training accuracy 1\n",
      "step 9800, training accuracy 1\n",
      "step 9900, training accuracy 0.98\n",
      "step 10000, training accuracy 0.98\n",
      "step 10100, training accuracy 0.98\n",
      "step 10200, training accuracy 0.98\n",
      "step 10300, training accuracy 1\n",
      "step 10400, training accuracy 0.98\n",
      "step 10500, training accuracy 1\n",
      "step 10600, training accuracy 1\n",
      "step 10700, training accuracy 0.98\n",
      "step 10800, training accuracy 1\n",
      "step 10900, training accuracy 1\n",
      "step 11000, training accuracy 1\n",
      "step 11100, training accuracy 1\n",
      "step 11200, training accuracy 1\n",
      "step 11300, training accuracy 1\n",
      "step 11400, training accuracy 1\n",
      "step 11500, training accuracy 1\n",
      "step 11600, training accuracy 0.98\n",
      "step 11700, training accuracy 1\n",
      "step 11800, training accuracy 1\n",
      "step 11900, training accuracy 0.98\n",
      "step 12000, training accuracy 1\n",
      "step 12100, training accuracy 1\n",
      "step 12200, training accuracy 1\n",
      "step 12300, training accuracy 1\n",
      "step 12400, training accuracy 1\n",
      "step 12500, training accuracy 1\n",
      "step 12600, training accuracy 1\n",
      "step 12700, training accuracy 1\n",
      "step 12800, training accuracy 1\n",
      "step 12900, training accuracy 1\n",
      "step 13000, training accuracy 1\n",
      "step 13100, training accuracy 1\n",
      "step 13200, training accuracy 1\n",
      "step 13300, training accuracy 1\n",
      "step 13400, training accuracy 1\n",
      "step 13500, training accuracy 1\n",
      "step 13600, training accuracy 1\n",
      "step 13700, training accuracy 0.98\n",
      "step 13800, training accuracy 1\n",
      "step 13900, training accuracy 1\n",
      "step 14000, training accuracy 1\n",
      "step 14100, training accuracy 1\n",
      "step 14200, training accuracy 0.98\n",
      "step 14300, training accuracy 1\n",
      "step 14400, training accuracy 1\n",
      "step 14500, training accuracy 1\n",
      "step 14600, training accuracy 1\n",
      "step 14700, training accuracy 1\n",
      "step 14800, training accuracy 1\n",
      "step 14900, training accuracy 0.98\n",
      "step 15000, training accuracy 1\n",
      "step 15100, training accuracy 1\n",
      "step 15200, training accuracy 1\n",
      "step 15300, training accuracy 1\n",
      "step 15400, training accuracy 1\n",
      "step 15500, training accuracy 1\n",
      "step 15600, training accuracy 1\n",
      "step 15700, training accuracy 1\n",
      "step 15800, training accuracy 1\n",
      "step 15900, training accuracy 1\n",
      "step 16000, training accuracy 1\n",
      "step 16100, training accuracy 1\n",
      "step 16200, training accuracy 1\n",
      "step 16300, training accuracy 1\n",
      "step 16400, training accuracy 1\n",
      "step 16500, training accuracy 0.98\n",
      "step 16600, training accuracy 1\n",
      "step 16700, training accuracy 0.98\n",
      "step 16800, training accuracy 1\n",
      "step 16900, training accuracy 1\n",
      "step 17000, training accuracy 1\n",
      "step 17100, training accuracy 1\n",
      "step 17200, training accuracy 1\n",
      "step 17300, training accuracy 1\n",
      "step 17400, training accuracy 1\n",
      "step 17500, training accuracy 1\n",
      "step 17600, training accuracy 1\n",
      "step 17700, training accuracy 1\n",
      "step 17800, training accuracy 1\n",
      "step 17900, training accuracy 1\n",
      "step 18000, training accuracy 1\n",
      "step 18100, training accuracy 1\n",
      "step 18200, training accuracy 1\n",
      "step 18300, training accuracy 1\n",
      "step 18400, training accuracy 1\n",
      "step 18500, training accuracy 1\n",
      "step 18600, training accuracy 1\n",
      "step 18700, training accuracy 1\n",
      "step 18800, training accuracy 1\n",
      "step 18900, training accuracy 1\n",
      "step 19000, training accuracy 1\n",
      "step 19100, training accuracy 1\n",
      "step 19200, training accuracy 1\n",
      "step 19300, training accuracy 1\n",
      "step 19400, training accuracy 1\n",
      "step 19500, training accuracy 1\n",
      "step 19600, training accuracy 1\n",
      "step 19700, training accuracy 1\n",
      "step 19800, training accuracy 1\n",
      "step 19900, training accuracy 1\n",
      "CPU times: user 9min 2s, sys: 1min 46s, total: 10min 48s\n",
      "Wall time: 12min 33s\n"
     ]
    }
   ],
   "source": [
    "%%time\n",
    "# interactive session, no need to run everything again if failednvi\n",
    "sess = tf.InteractiveSession(config=tf.ConfigProto(log_device_placement=True))\n",
    "\n",
    "# training\n",
    "sess.run(tf.global_variables_initializer())\n",
    "for i in range(20000):\n",
    "    batch = mnist.train.next_batch(50)\n",
    "    if i % 100 == 0:\n",
    "        # use full dropout layer for performance metrics\n",
    "        train_accuracy = accuracy.eval(feed_dict={x_input: batch[0], \n",
    "                                                  y_expected: batch[1], \n",
    "                                                  dropout_keep_prob: 1.0})\n",
    "        print('step %d, training accuracy %g' % (i, train_accuracy))\n",
    "    train_step.run(feed_dict={x_input: batch[0], y_expected: batch[1], dropout_keep_prob: 0.5})\n",
    "\n",
    "  "
   ]
  },
  {
   "cell_type": "code",
   "execution_count": 26,
   "metadata": {},
   "outputs": [
    {
     "name": "stdout",
     "output_type": "stream",
     "text": [
      "test accuracy 0.989\n"
     ]
    }
   ],
   "source": [
    "print('test accuracy %g' % accuracy.eval(feed_dict={\n",
    "    x_input: mnist.test.images[:1000], y_expected: mnist.test.labels[:1000], dropout_keep_prob: 1.0}))"
   ]
  },
  {
   "cell_type": "code",
   "execution_count": null,
   "metadata": {
    "collapsed": true
   },
   "outputs": [],
   "source": []
  }
 ],
 "metadata": {
  "kernelspec": {
   "display_name": "Python 3",
   "language": "python",
   "name": "python3"
  },
  "language_info": {
   "codemirror_mode": {
    "name": "ipython",
    "version": 3
   },
   "file_extension": ".py",
   "mimetype": "text/x-python",
   "name": "python",
   "nbconvert_exporter": "python",
   "pygments_lexer": "ipython3",
   "version": "3.6.2"
  }
 },
 "nbformat": 4,
 "nbformat_minor": 2
}
